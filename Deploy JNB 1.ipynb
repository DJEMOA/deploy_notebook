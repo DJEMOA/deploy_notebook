{
 "cells": [
  {
   "cell_type": "markdown",
   "id": "9072291b",
   "metadata": {},
   "source": [
    "## FIrst code"
   ]
  },
  {
   "cell_type": "code",
   "execution_count": 2,
   "id": "8abcf6a9",
   "metadata": {},
   "outputs": [],
   "source": [
    "# THIS FUNCTION TAKES A CSV FILE FROM A GITHUB URL AND READS IT INTO A PANDAS DATA FRAME\n",
    "import pandas as pd\n",
    "\n",
    "def read_file(url):\n",
    "\n",
    "    \"\"\"\n",
    "    Takes GitHub url as an argument,\n",
    "    pulls CSV file located @ github URL.\n",
    "\n",
    "    \"\"\"\n",
    "\n",
    "    url = url + \"?raw=true\"\n",
    "    df = pd.read_csv(url)\n",
    "    return df\n",
    "\n",
    "\n",
    "# READ FILE FROM GITHUB REPO \n",
    "# CHANGE THE URL TO YOUR DATA LOCATION!\n",
    "url = \"https://github.com/john-adeojo/deploy_notebook_example/blob/main/kids.csv\"\n",
    "\n",
    "kids= read_file(url)"
   ]
  },
  {
   "cell_type": "code",
   "execution_count": 4,
   "id": "a90483b7",
   "metadata": {},
   "outputs": [
    {
     "data": {
      "text/html": [
       "<div>\n",
       "<style scoped>\n",
       "    .dataframe tbody tr th:only-of-type {\n",
       "        vertical-align: middle;\n",
       "    }\n",
       "\n",
       "    .dataframe tbody tr th {\n",
       "        vertical-align: top;\n",
       "    }\n",
       "\n",
       "    .dataframe thead th {\n",
       "        text-align: right;\n",
       "    }\n",
       "</style>\n",
       "<table border=\"1\" class=\"dataframe\">\n",
       "  <thead>\n",
       "    <tr style=\"text-align: right;\">\n",
       "      <th></th>\n",
       "      <th>Name</th>\n",
       "      <th>Children</th>\n",
       "    </tr>\n",
       "  </thead>\n",
       "  <tbody>\n",
       "    <tr>\n",
       "      <th>0</th>\n",
       "      <td>Phill</td>\n",
       "      <td>1</td>\n",
       "    </tr>\n",
       "    <tr>\n",
       "      <th>1</th>\n",
       "      <td>James</td>\n",
       "      <td>1</td>\n",
       "    </tr>\n",
       "    <tr>\n",
       "      <th>2</th>\n",
       "      <td>Sandeep</td>\n",
       "      <td>1</td>\n",
       "    </tr>\n",
       "    <tr>\n",
       "      <th>3</th>\n",
       "      <td>Ade</td>\n",
       "      <td>2</td>\n",
       "    </tr>\n",
       "    <tr>\n",
       "      <th>4</th>\n",
       "      <td>Martha</td>\n",
       "      <td>1</td>\n",
       "    </tr>\n",
       "    <tr>\n",
       "      <th>5</th>\n",
       "      <td>Jamilla</td>\n",
       "      <td>3</td>\n",
       "    </tr>\n",
       "    <tr>\n",
       "      <th>6</th>\n",
       "      <td>Sadie</td>\n",
       "      <td>5</td>\n",
       "    </tr>\n",
       "    <tr>\n",
       "      <th>7</th>\n",
       "      <td>Yen</td>\n",
       "      <td>4</td>\n",
       "    </tr>\n",
       "    <tr>\n",
       "      <th>8</th>\n",
       "      <td>Yuyi</td>\n",
       "      <td>4</td>\n",
       "    </tr>\n",
       "    <tr>\n",
       "      <th>9</th>\n",
       "      <td>Valentina</td>\n",
       "      <td>6</td>\n",
       "    </tr>\n",
       "  </tbody>\n",
       "</table>\n",
       "</div>"
      ],
      "text/plain": [
       "        Name  Children\n",
       "0      Phill         1\n",
       "1      James         1\n",
       "2    Sandeep         1\n",
       "3        Ade         2\n",
       "4     Martha         1\n",
       "5    Jamilla         3\n",
       "6      Sadie         5\n",
       "7        Yen         4\n",
       "8       Yuyi         4\n",
       "9  Valentina         6"
      ]
     },
     "execution_count": 4,
     "metadata": {},
     "output_type": "execute_result"
    }
   ],
   "source": [
    "kids"
   ]
  },
  {
   "cell_type": "code",
   "execution_count": 5,
   "id": "748d532f",
   "metadata": {},
   "outputs": [
    {
     "data": {
      "image/png": "[encoded data removed]",
      "text/plain": [
       "<Figure size 1080x576 with 1 Axes>"
      ]
     },
     "metadata": {},
     "output_type": "display_data"
    }
   ],
   "source": [
    "# THIS FUNCTION PLOTS A BAR CHART\n",
    "\n",
    "\n",
    "import matplotlib\n",
    "import matplotlib.pyplot as plt\n",
    "import seaborn as sns\n",
    "\n",
    "\n",
    "def bar(data, name):\n",
    "    \"\"\"\n",
    "    plots bar chart\n",
    "    name: titl of plot, as str\n",
    "    data: pandas dataframe with 1 categorical column and 1 numeric column\n",
    "    \"\"\"\n",
    "\n",
    "    x_ = str(data.columns[1])\n",
    "    y_ = str(data.columns[0])\n",
    "    x_col = data[x_]\n",
    "    y_col = data[y_]\n",
    "\n",
    "    sns.set_style(style=\"darkgrid\")\n",
    "    sns.color_palette(\"pastel\")\n",
    "    sns.set_context(\"paper\", font_scale=1.5)\n",
    "    plt.figure(figsize=(15, 8))\n",
    "    ax = sns.barplot(x=x_col, y=y_col, data=data)\n",
    "    ax.set_xlabel(\"\")\n",
    "    ax.set_title(name)\n",
    "    plt.show()\n",
    "    \n",
    "    \n",
    "# PLOT THE BAR CHART ON THE KIDS DATA \n",
    "\n",
    "bar(kids, \"kids\")"
   ]
  },
  {
   "cell_type": "code",
   "execution_count": null,
   "id": "0e8c6de2",
   "metadata": {},
   "outputs": [],
   "source": []
  }
 ],
 "metadata": {
  "kernelspec": {
   "display_name": "Python 3",
   "language": "python",
   "name": "python3"
  },
  "language_info": {
   "codemirror_mode": {
    "name": "ipython",
    "version": 3
   },
   "file_extension": ".py",
   "mimetype": "text/x-python",
   "name": "python",
   "nbconvert_exporter": "python",
   "pygments_lexer": "ipython3",
   "version": "3.8.8"
  }
 },
 "nbformat": 4,
 "nbformat_minor": 5
}
